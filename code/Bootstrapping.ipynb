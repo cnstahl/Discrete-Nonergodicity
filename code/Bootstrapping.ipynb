{
 "cells": [
  {
   "cell_type": "code",
   "execution_count": 2,
   "id": "c3a80224-a67a-4d20-afc2-5b991f45f7b5",
   "metadata": {},
   "outputs": [],
   "source": [
    "from random import choices\n",
    "import numpy as np"
   ]
  },
  {
   "cell_type": "code",
   "execution_count": 3,
   "id": "98607d2a-5c85-47ce-96d4-581aaca5c94d",
   "metadata": {},
   "outputs": [],
   "source": [
    "def resamp_data(list):\n",
    "    sim_list = choices(list, k=len(list)) \n",
    "    return(sim_list)"
   ]
  },
  {
   "cell_type": "code",
   "execution_count": null,
   "id": "187819e8-c0ab-4319-b491-32203de2af97",
   "metadata": {},
   "outputs": [],
   "source": [
    "resamps = 100\n",
    "quantity = []\n",
    "\n",
    "for r in range(resamps):\n",
    "\t# resample the data stored in dictionary \"results_dict\"\n",
    "    samp_results = {key:[val(key, shot) for shot in resamp_data(results_dict[key])] for key in dict}\n",
    "\n",
    "    # compute the quantity of interest from this particular resampling of the data\n",
    "    quantity.append( process(samp_results) )\n",
    "\n",
    "# find the standard deviation of the quantity over resamplings\n",
    "std_devs = [np.std([quantity[j][key] for j in range(resamps)]) for key in dict]"
   ]
  }
 ],
 "metadata": {
  "kernelspec": {
   "display_name": "Python 3 (ipykernel)",
   "language": "python",
   "name": "python3"
  },
  "language_info": {
   "codemirror_mode": {
    "name": "ipython",
    "version": 3
   },
   "file_extension": ".py",
   "mimetype": "text/x-python",
   "name": "python",
   "nbconvert_exporter": "python",
   "pygments_lexer": "ipython3",
   "version": "3.11.4"
  }
 },
 "nbformat": 4,
 "nbformat_minor": 5
}
